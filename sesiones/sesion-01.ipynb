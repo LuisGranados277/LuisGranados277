{
  "nbformat": 4,
  "nbformat_minor": 0,
  "metadata": {
    "colab": {
      "name": "Sesión 1 - Python 101",
      "private_outputs": true,
      "provenance": [],
      "include_colab_link": true
    },
    "kernelspec": {
      "name": "python3",
      "display_name": "Python 3"
    }
  },
  "cells": [
    {
      "cell_type": "markdown",
      "metadata": {
        "id": "view-in-github",
        "colab_type": "text"
      },
      "source": [
        "<a href=\"https://colab.research.google.com/github/LuisGranados277/LuisGranados277/blob/main/sesiones/sesion-01.ipynb\" target=\"_parent\"><img src=\"https://colab.research.google.com/assets/colab-badge.svg\" alt=\"Open In Colab\"/></a>"
      ]
    },
    {
      "cell_type": "markdown",
      "metadata": {
        "id": "EXCqS7CqJRRW"
      },
      "source": [
        "# Curso de introducción a Python\n",
        "\n",
        "Curso de introducción a la programación con Python para la comunidad de **Innovacción Virtual**.\n",
        "\n",
        "Código desarrollado y documentado por **Rodolfo Ferro**, Sherpa Digital de Innovación para Microsoft México y Google Developer Expert en Machine Learning.\n",
        "\n",
        "##### **Redes:**\n",
        "- GitHub: [RodolfoFerro](https://github.com/RodolfoFerro), ricardomiron\n",
        "- Twitter: [FerroRodolfo](https://twitter.com/FerroRodolfo), @richard016\n",
        "- Instagram: [rodo_ferro](https://instagram.com/rodo_ferro), @ricardomiron\n"
      ]
    },
    {
      "cell_type": "markdown",
      "metadata": {
        "id": "_cH9vuvj-bKS"
      },
      "source": [
        ""
      ]
    },
    {
      "cell_type": "markdown",
      "metadata": {
        "id": "DVHYOMb9LRcp"
      },
      "source": [
        "## ¿Qué es programar?\n",
        "\n",
        "**Programar** es darle instrucciones a la máquina para que realice una acción. Esto lo hacemos a través de un lenguaje que una computadora sea capaz de entender.\n",
        "\n",
        "Los lenguajes en los que podemos darle instrucciones a la máquia se llaman **lenguajes de programación**, que cuentan con una sintaxis completa para poder especificar dichas instrucciones.\n",
        "\n",
        "Las instrucciones completas podemos plantearlas en una secuencia de pasos, a lo que llamamos **algoritmo**.\n",
        "\n",
        "Pensemos en algunos ejemplos..."
      ]
    },
    {
      "cell_type": "markdown",
      "metadata": {
        "id": "GsO0_iMcIoUC"
      },
      "source": [
        "## ¿Qué es y por qué Python?\n",
        "\n",
        "<center>\n",
        "    <img src=\"https://raw.githubusercontent.com/RodolfoFerro/python-innovaccion/main/assets/python_logo.png\" width=\"50%\">\n",
        "</center>\n",
        "\n",
        "Python es un lenguaje de programación interpretado, de tipado dinámico multiusos que es muy simple y elegante, pero poderoso.\n",
        "\n",
        "Es por ello que se utiliza en grandes compañías como Microsoft, Google y Dropbox, y en instituciones académicas donde lo utilizan para enseñar cursos que van desde introducción a la programación hasta inteligencia artificial.  **Algunas plataformas como Eventbrite, Pinterest e Instagram utilizan Python.**\n"
      ]
    },
    {
      "cell_type": "markdown",
      "metadata": {
        "id": "juewUi6-LXW9"
      },
      "source": [
        "## I/O - ¡Hola mundo!\n",
        "\n",
        "`input()` y `print()` son las funciones de entrada y salida (respectivamente) de información en Python. \n",
        "\n",
        "`input()` tiene como argumento una cadena de texto que da las instrucciones que se deseas desplegar y lo que retorna (la respuesta) siempre es una cadena de texto; mientras que `print()` tiene como argumentos cadenas de texto o variables que se desean desplegar.\n",
        "\n",
        "#### Ejemplo:\n",
        "\n",
        "```python\n",
        "nombre = input(\"Introduce tu nombre: \")\n",
        "print(f\"Mucho gusto, {nombre}\")\n",
        "```"
      ]
    },
    {
      "cell_type": "code",
      "metadata": {
        "id": "wf9mha98DEAk"
      },
      "source": [
        ""
      ],
      "execution_count": null,
      "outputs": []
    },
    {
      "cell_type": "code",
      "metadata": {
        "id": "bLElrOD8C3ws"
      },
      "source": [
        "print(\"¡Hola Viajeros!\")\n",
        "print(\"Iniciamos\")\n",
        "print(\"Soy Luis Granados M.\")\n",
        "\n",
        "input(\"Dime tu Fecha de Nacimiento: \")\n",
        "\n",
        "input(\"Dime tu Edad: \")\n",
        "\n",
        "\n"
      ],
      "execution_count": null,
      "outputs": []
    },
    {
      "cell_type": "markdown",
      "metadata": {
        "id": "hC85X4LYD6UI"
      },
      "source": [
        ""
      ]
    },
    {
      "cell_type": "code",
      "metadata": {
        "id": "ax0Md9z7D7Ae"
      },
      "source": [
        ""
      ],
      "execution_count": null,
      "outputs": []
    },
    {
      "cell_type": "code",
      "metadata": {
        "id": "bX3bEL_zCByf"
      },
      "source": [
        "print(\"¡Hola Mundo!\")"
      ],
      "execution_count": null,
      "outputs": []
    },
    {
      "cell_type": "code",
      "metadata": {
        "id": "i3foDM2e1GM1"
      },
      "source": [
        "print(\"¡Hola viajeras y viajeros!\")\n",
        "print(\"Arrancamos con el curso.\")\n",
        "\n",
        "print(\"Otra línea. 🎲\")"
      ],
      "execution_count": null,
      "outputs": []
    },
    {
      "cell_type": "code",
      "metadata": {
        "id": "KQTGWH6TMEP5"
      },
      "source": [
        "input(\"Dime tu edad: \")"
      ],
      "execution_count": null,
      "outputs": []
    },
    {
      "cell_type": "markdown",
      "metadata": {
        "id": "OuMomwtvL8QD"
      },
      "source": [
        "## Variables, tipos de datos y conversión\n",
        "\n",
        "Podemos pensar que una variable es como un contenedor de información. Python puede albergar distintos tipos de datos, como valores numéricos, booleanos y cadenas de texto. Al ser Python de tipado dinámico, no hace falta declarar el tipo de variable, sino que sólo basta con definir sus valores.\n",
        "\n",
        "#### Ejemplo:\n",
        "\n",
        "```python\n",
        "name = \"Rodolfo\"\n",
        "age = 27\n",
        "pi = 3.1416\n",
        "age = float(age)\n",
        "\n",
        "print(name, age)\n",
        "print(type(name), type(age))\n",
        "```"
      ]
    },
    {
      "cell_type": "code",
      "metadata": {
        "id": "3p2Q-M2nFWgD"
      },
      "source": [
        "name = \"Luis Granados M.\"\n",
        "age = 51\n",
        "pi = 3.1415161719\n",
        "age = float(age)\n",
        "\n",
        "print(name, age)\n",
        "print(type(name), type(age))\n"
      ],
      "execution_count": null,
      "outputs": []
    },
    {
      "cell_type": "code",
      "metadata": {
        "id": "MfTSYTNyImX9"
      },
      "source": [
        "bote_de_yogurt = \"Frijoles negros\"\n"
      ],
      "execution_count": null,
      "outputs": []
    },
    {
      "cell_type": "code",
      "metadata": {
        "id": "am9ixJid3wht"
      },
      "source": [
        "print(bote_de_yogurt)"
      ],
      "execution_count": null,
      "outputs": []
    },
    {
      "cell_type": "code",
      "metadata": {
        "id": "SpUbxSG13-n8"
      },
      "source": [
        "edad = 51\n",
        "\n",
        "pi = 3.14159265358979\n",
        "\n",
        "print(\"Edad:\")\n",
        "print(edad)"
      ],
      "execution_count": null,
      "outputs": []
    },
    {
      "cell_type": "code",
      "metadata": {
        "id": "s_VfQpcL4TaF"
      },
      "source": [
        "print(\"Aproximación de Pi:\")\n",
        "print(pi)"
      ],
      "execution_count": null,
      "outputs": []
    },
    {
      "cell_type": "code",
      "metadata": {
        "id": "vz3CWU5k4a-t"
      },
      "source": [
        "print(type(edad)) # Integer - Número entero\n",
        "print(type(pi)) # Float - Número decimal\n",
        "print(type(bote_de_yogurt)) # String - Cadena de texto\n",
        "\n",
        "# Esto no se ejecuta\n",
        "# Esto es un comentario"
      ],
      "execution_count": null,
      "outputs": []
    },
    {
      "cell_type": "markdown",
      "metadata": {
        "id": "lW9tqrcwM7hF"
      },
      "source": [
        "## Operaciones básicas\n",
        "\n",
        "\n",
        "En esencia hay tres tipos de operaciones:\n",
        "- **Operaciones aritméticas.** Operan a nivel matemático-aritmético sobre los valores de las variables (`+`, `-`, `*`, `/`, `//`, `%`, `**`).\n",
        "- **Operaciones de comparación.** Operan a nivel matemático-de-comaración sobre los valores de las variables (`<`, `>`, `<=`, `>=`, `==`, `!=`).\n",
        "- **Operaciones lógicas.** Operan a nivel matemático-lógico sobre los valores de las variables (`and`, `or`, `not`).\n",
        "\n"
      ]
    },
    {
      "cell_type": "code",
      "metadata": {
        "id": "VRyPEL9UNYIy"
      },
      "source": [
        "print(edad)"
      ],
      "execution_count": null,
      "outputs": []
    },
    {
      "cell_type": "code",
      "metadata": {
        "id": "CaDPylKz6ANr"
      },
      "source": [
        "print(edad + 50)\n",
        "print(edad - 4)\n",
        "print(edad * 2)\n",
        "print(edad / 2)"
      ],
      "execution_count": null,
      "outputs": []
    },
    {
      "cell_type": "code",
      "metadata": {
        "id": "5oBMyT766QZa"
      },
      "source": [
        "print(edad / 2)\n",
        "print(edad // 2)\n",
        "print(edad % 2)\n",
        "\n",
        "#   __25__\n",
        "# 2 | 51\n",
        "#     01\n",
        "#      1\n",
        "\n",
        "\n",
        "print(3 ** 3) # 3 * 3 * 3\n",
        "print(5 ** 2) # 5 * 5\n",
        "\n",
        "# Leyes de los exponentes\n",
        "#  __\n",
        "# √ 5 = (5)^(1/2)\n",
        "# 3^√5 = (5)^(1/3)\n",
        "# \n",
        "\n",
        "print(5 ** 0.5)\n",
        "print(81 ** 0.5)"
      ],
      "execution_count": null,
      "outputs": []
    },
    {
      "cell_type": "markdown",
      "metadata": {
        "id": "j0hC8IL1Ncyu"
      },
      "source": [
        "## Condicionales (pt. I)\n",
        "\n",
        "Los condicionales los utilizaremos para validar si se cumple una o más condiciones para ejecutar cierto bloque de código, en esencia nos ayuda a tomar decisiones sobre el flujo de nuestro código.\n",
        "\n",
        "#### Sintaxis: \n",
        "\n",
        "```python\n",
        "if condition:\n",
        "    # Block of code\n",
        "elif other_condition:\n",
        "\t# Another block of code\n",
        "else:\n",
        "\t# Final block of code\n",
        "```"
      ]
    },
    {
      "cell_type": "code",
      "metadata": {
        "id": "QCM7kbwyNrqy"
      },
      "source": [
        "print(edad)"
      ],
      "execution_count": null,
      "outputs": []
    },
    {
      "cell_type": "code",
      "metadata": {
        "id": "wK28o9319JEe"
      },
      "source": [
        "edad = 51\n",
        "\n"
      ],
      "execution_count": null,
      "outputs": []
    },
    {
      "cell_type": "markdown",
      "metadata": {
        "id": "_I2AvfLfAkyF"
      },
      "source": [
        " -------------------\n"
      ]
    },
    {
      "cell_type": "code",
      "metadata": {
        "id": "m032LjdE8Pzk"
      },
      "source": [
        "edad = input(\"Introduce tu edad: \")\n",
        "edad = int(edad)  # Casting\n",
        "\n",
        "if edad >= 18 and edad <= 100:\n",
        "    print(\"Eres mayor de edad.\")\n",
        "elif edad > 100:\n",
        "    print(\"Ya te petateaste.\")\n",
        "elif edad < 0:\n",
        "    print(\"Tu edad no tiene sentido.\")\n",
        "else:\n",
        "    print(\"Eres menor de edad.\")"
      ],
      "execution_count": null,
      "outputs": []
    },
    {
      "cell_type": "markdown",
      "metadata": {
        "id": "7Xz4nAcPAoue"
      },
      "source": [
        "-------------------\n"
      ]
    },
    {
      "cell_type": "code",
      "metadata": {
        "id": "JwTEh-kF-60h"
      },
      "source": [
        "richard = 27\n",
        "rodo = 17\n",
        "luis = 51\n",
        "\n",
        "\n",
        "edad_total = richard + rodo + luis\n",
        "print(edad_total)\n",
        "print(richard)\n",
        "print(rodo)\n",
        "print(luis)"
      ],
      "execution_count": null,
      "outputs": []
    },
    {
      "cell_type": "code",
      "metadata": {
        "id": "hNKAQx2T9Epa"
      },
      "source": [
        "if richard >= 18 and rodo >= 18 and luis >= 18:\n",
        "    print(\"Todos son mayores.\")\n",
        "else:\n",
        "    print(\"Alguien es menor. ✖️\")"
      ],
      "execution_count": null,
      "outputs": []
    },
    {
      "cell_type": "code",
      "metadata": {
        "id": "1zLC5A_4Auac"
      },
      "source": [
        "animal = \"caballo\"\n",
        "color = \"blanco\"\n",
        "\n",
        "\n",
        "if animal == \"caballo\":\n",
        "    if color == \"negro\":\n",
        "        print(\"Ah, es el caballo de Luis.\")\n",
        "    else:\n",
        "        print(\"No sé de quién sea.\")\n",
        "else:\n",
        "    print(\"No sé qué animal es.\")\n"
      ],
      "execution_count": null,
      "outputs": []
    },
    {
      "cell_type": "code",
      "metadata": {
        "id": "FgpE63YkBfka"
      },
      "source": [
        "z = 2 + 3j\n",
        "\n",
        "print(z.__dir__())\n",
        "\n",
        "print(z.real, z.imag)\n",
        "print(z.conjugate()) "
      ],
      "execution_count": null,
      "outputs": []
    },
    {
      "cell_type": "code",
      "metadata": {
        "id": "wlr12iHhDDXE"
      },
      "source": [
        "if color == \"negro\":\n",
        "    print(\"Ah, es el caballo de Luis.\")\n",
        "else:\n",
        "    print(\"No sé de quién sea.\")"
      ],
      "execution_count": null,
      "outputs": []
    },
    {
      "cell_type": "code",
      "metadata": {
        "id": "pz2BZWH0DSyk"
      },
      "source": [
        "color = \"negro\"\n"
      ],
      "execution_count": null,
      "outputs": []
    },
    {
      "cell_type": "code",
      "metadata": {
        "id": "-9YqtvyQDLBk"
      },
      "source": [
        "\"Ah, es el caballo de Luis.\" if color == \"negro\" else \"No sé de quién sea.\""
      ],
      "execution_count": null,
      "outputs": []
    }
  ]
}